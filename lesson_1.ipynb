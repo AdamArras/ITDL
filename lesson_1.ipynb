{
  "nbformat": 4,
  "nbformat_minor": 0,
  "metadata": {
    "colab": {
      "provenance": []
    },
    "kernelspec": {
      "name": "python3",
      "display_name": "Python 3"
    },
    "language_info": {
      "name": "python"
    }
  },
  "cells": [
    {
      "cell_type": "markdown",
      "source": [
        "# My notes on the book : Practical Deep learning for coders."
      ],
      "metadata": {
        "id": "Q_ooBRcz2XBn"
      }
    },
    {
      "cell_type": "markdown",
      "source": [
        "## lesson 1 : getting started : resources\n",
        "\n"
      ],
      "metadata": {
        "id": "YXxP1cIO1lx6"
      }
    },
    {
      "cell_type": "markdown",
      "source": [
        "## Lesson 1 – Resources\n",
        "\n",
        "Here are the key resources I will use throughout this lesson:\n",
        "\n",
        "1. **Course notebook**: [fast.ai Lesson 1 notebook](https://adamarras.github.io/)\n",
        "2. **Dataset**: Oxford-IIIT Pet dataset (built into fastai: `URLs.PETS`)\n",
        "3. **Library**: [fastai](https://docs.fast.ai/) (high-level deep learning library)\n",
        "4. **Framework**: [PyTorch](https://pytorch.org/) (the underlying DL framework)\n",
        "5. **Documentation**:  \n",
        "   - [fastai vision tutorial](https://docs.fast.ai/tutorial.vision.html)  \n",
        "   - [PyTorch docs](https://pytorch.org/docs/stable/index.html)\n",
        "6. **Extra reading**: Chapter 1 of *Deep Learning for Coders with fastai & PyTorch* (Howard & Gugger, 2020)\n",
        "\n",
        "---\n"
      ],
      "metadata": {
        "id": "kDMjZVAw2wgH"
      }
    },
    {
      "cell_type": "code",
      "source": [],
      "metadata": {
        "id": "4GHhJ8XT1lY5"
      },
      "execution_count": null,
      "outputs": []
    },
    {
      "cell_type": "code",
      "source": [
        "## getting started : jupyter notebook and google colab"
      ],
      "metadata": {
        "id": "Zase-oLj1kN3"
      },
      "execution_count": null,
      "outputs": []
    },
    {
      "cell_type": "markdown",
      "source": [
        "test save 3"
      ],
      "metadata": {
        "id": "8emoUodY5c_f"
      }
    },
    {
      "cell_type": "code",
      "execution_count": null,
      "metadata": {
        "id": "959fwjfp2Mch"
      },
      "outputs": [],
      "source": []
    },
    {
      "cell_type": "code",
      "source": [],
      "metadata": {
        "id": "PeLQ-Dlc2U3S"
      },
      "execution_count": null,
      "outputs": []
    }
  ]
}