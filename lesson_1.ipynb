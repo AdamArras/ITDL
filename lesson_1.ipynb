{
  "nbformat": 4,
  "nbformat_minor": 0,
  "metadata": {
    "colab": {
      "provenance": []
    },
    "kernelspec": {
      "name": "python3",
      "display_name": "Python 3"
    },
    "language_info": {
      "name": "python"
    }
  },
  "cells": [
    {
      "cell_type": "markdown",
      "source": [
        "\n",
        "\n",
        "# Lesson one :\n",
        "\n",
        "## getting started : jupyter notebook and google colab"
      ],
      "metadata": {
        "id": "Q_ooBRcz2XBn"
      }
    },
    {
      "cell_type": "markdown",
      "source": [
        "test save 3"
      ],
      "metadata": {
        "id": "8emoUodY5c_f"
      }
    },
    {
      "cell_type": "code",
      "execution_count": null,
      "metadata": {
        "id": "959fwjfp2Mch"
      },
      "outputs": [],
      "source": []
    },
    {
      "cell_type": "code",
      "source": [],
      "metadata": {
        "id": "PeLQ-Dlc2U3S"
      },
      "execution_count": null,
      "outputs": []
    }
  ]
}