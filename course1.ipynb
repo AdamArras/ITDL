{
  "nbformat": 4,
  "nbformat_minor": 0,
  "metadata": {
    "colab": {
      "provenance": []
    },
    "kernelspec": {
      "name": "python3",
      "display_name": "Python 3"
    },
    "language_info": {
      "name": "python"
    }
  },
  "cells": [
    {
      "cell_type": "markdown",
      "source": [
        "# My notes on the book : Practical Deep learning for coders."
      ],
      "metadata": {
        "id": "Q_ooBRcz2XBn"
      }
    },
    {
      "cell_type": "markdown",
      "source": [
        "## lesson 1 : getting started : resources\n",
        "\n"
      ],
      "metadata": {
        "id": "YXxP1cIO1lx6"
      }
    },
    {
      "cell_type": "markdown",
      "source": [
        "## Lesson 1 – Resources\n",
        "\n",
        "These are the environments and tools I will use:\n",
        "\n",
        "1. **Jupyter Notebook**  \n",
        "   - Installed locally with Anaconda or pip  \n",
        "   - Runs on my computer (offline or online)  \n",
        "   - Good for reproducibility and custom experiments  \n",
        "\n",
        "2. **Google Colab**  \n",
        "   - Cloud-based Jupyter Notebook environment  \n",
        "   - Free GPUs/TPUs available  \n",
        "   - Saves notebooks in Google Drive and easy to share  \n",
        "\n",
        "3. **Python Libraries**  \n",
        "   - [fastai](https://docs.fast.ai/) – high-level deep learning library  \n",
        "   - [PyTorch](https://pytorch.org/) – core deep learning framework  \n",
        "\n",
        "4. **Datasets**  \n",
        "   - [Oxford-IIIT Pet dataset](https://www.robots.ox.ac.uk/~vgg/data/pets/) (built into fastai as `URLs.PETS`)  \n",
        "\n",
        "---\n",
        "\n"
      ],
      "metadata": {
        "id": "kDMjZVAw2wgH"
      }
    },
    {
      "cell_type": "code",
      "source": [],
      "metadata": {
        "id": "4GHhJ8XT1lY5"
      },
      "execution_count": null,
      "outputs": []
    },
    {
      "cell_type": "code",
      "source": [
        "## getting started : jupyter notebook and google colab"
      ],
      "metadata": {
        "id": "Zase-oLj1kN3"
      },
      "execution_count": null,
      "outputs": []
    },
    {
      "cell_type": "markdown",
      "source": [
        "test save 3"
      ],
      "metadata": {
        "id": "8emoUodY5c_f"
      }
    },
    {
      "cell_type": "code",
      "execution_count": null,
      "metadata": {
        "id": "959fwjfp2Mch"
      },
      "outputs": [],
      "source": []
    },
    {
      "cell_type": "code",
      "source": [],
      "metadata": {
        "id": "PeLQ-Dlc2U3S"
      },
      "execution_count": null,
      "outputs": []
    }
  ]
}